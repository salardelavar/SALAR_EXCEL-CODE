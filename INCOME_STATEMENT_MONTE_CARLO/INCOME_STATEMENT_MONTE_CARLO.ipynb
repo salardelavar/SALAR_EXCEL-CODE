{
 "cells": [
  {
   "cell_type": "code",
   "execution_count": null,
   "id": "6d636a4f",
   "metadata": {},
   "outputs": [],
   "source": [
    "###############################################\n",
    "#            IN THE NAME OF ALLAH             #\n",
    "#  FORECASTING NET INCOME MARGIN USING        #\n",
    "# MONTE CARLO METHOD WITH EXCEL AND PYTHON    #\n",
    "# THIS PROGRAM IS WRITTEN BY:                 #\n",
    "#             SALAR DELAVAR QASHQAI           #\n",
    "#          SALAR.D.GHASHGHAEI@GMAIL.COM       #\n",
    "###############################################\n",
    "\n",
    "def HISTOGRAM_BOXPLOT_PLOTLY( DATA, XLABEL='X', TITLE='A', COLOR='cyan'):\n",
    "    # Plotting histogram and boxplot\n",
    "    import plotly.express as px\n",
    "    fig = px.histogram(x=DATA, marginal=\"box\", color_discrete_sequence=[COLOR])\n",
    "    fig.update_layout(title=TITLE, xaxis_title=XLABEL, yaxis_title=\"Frequency\")\n",
    "    fig.show()\n",
    "    #fig = px.ecdf(irr, title=TITLE)\n",
    "    #fig.show()\n",
    "    \n",
    "def BETA_PDF(MIN_X, MAX_X, a, b, n):\n",
    "    import numpy as np\n",
    "    return MIN_X + (MAX_X - MIN_X) * np.random.beta(a, b, size=n)\n",
    "\n",
    "NUM = 100000\n",
    "Revenue = BETA_PDF(200, 400, a=1, b=2, n=NUM)\n",
    "\n",
    "Direct_Material_Cost = BETA_PDF(100, 200, a=2, b=1, n=NUM)\n",
    "Direct_Labor_Cost = BETA_PDF(10, 20, a=2, b=1, n=NUM)\n",
    "Overhead_Cost = BETA_PDF(10, 50, a=2, b=1, n=NUM)\n",
    "cost_of_goods_sold = Direct_Material_Cost + Direct_Labor_Cost + Overhead_Cost\n",
    "# Calculate gross profit\n",
    "gross_profit = Revenue - cost_of_goods_sold\n",
    "# Calculate operating income\n",
    "operating_expenses = BETA_PDF(5, 10, a=1, b=2, n=NUM)\n",
    "operating_income = gross_profit - operating_expenses\n",
    "# Calculate income before tax\n",
    "interest_expense = BETA_PDF(5, 10, a=2, b=1, n=NUM)\n",
    "income_before_tax = operating_income - interest_expense\n",
    "# Calculate net income\n",
    "income_tax_expense = income_before_tax * 0.3\n",
    "net_income = income_before_tax - income_tax_expense\n",
    "net_income_margin = 100 * net_income / Revenue"
   ]
  },
  {
   "cell_type": "code",
   "execution_count": null,
   "id": "e7ad5648",
   "metadata": {},
   "outputs": [],
   "source": [
    "HISTOGRAM_BOXPLOT_PLOTLY(Revenue, XLABEL='REVENUE',TITLE='REVENUE', COLOR='lime')"
   ]
  },
  {
   "cell_type": "code",
   "execution_count": null,
   "id": "375cfaca",
   "metadata": {},
   "outputs": [],
   "source": [
    "HISTOGRAM_BOXPLOT_PLOTLY(Direct_Material_Cost, XLABEL='Direct Material Cost',TITLE='Direct Material Cost', COLOR='orange')"
   ]
  },
  {
   "cell_type": "code",
   "execution_count": null,
   "id": "22531936",
   "metadata": {},
   "outputs": [],
   "source": [
    "HISTOGRAM_BOXPLOT_PLOTLY(cost_of_goods_sold, XLABEL='COST OF GOODS',TITLE='COST OF GOODS', COLOR='cyan')"
   ]
  },
  {
   "cell_type": "code",
   "execution_count": null,
   "id": "04c80c87",
   "metadata": {},
   "outputs": [],
   "source": [
    "HISTOGRAM_BOXPLOT_PLOTLY(net_income_margin, XLABEL='NET INCOME MARGIN (%)',TITLE='NET INCOME MARGIN', COLOR='purple')"
   ]
  },
  {
   "cell_type": "code",
   "execution_count": null,
   "id": "92993dc0",
   "metadata": {},
   "outputs": [],
   "source": [
    "import numpy as np\n",
    "import matplotlib.pyplot as plt\n",
    "\n",
    "# Define a range for Revenue\n",
    "revenue_range = np.linspace(1000, 10000, 400)\n",
    "\n",
    "# Define the net income margins\n",
    "net_income_margins = [-30, -25, -20, -15, -10, -5, 0, 5, 10, 15, 20, 25, 30]\n",
    "\n",
    "# Create a meshgrid for plotting\n",
    "R, N = np.meshgrid(revenue_range, net_income_margins)\n",
    "COGS = R - (N / 100) * R\n",
    "\n",
    "# Plot the contour\n",
    "plt.figure(figsize=(10, 6))\n",
    "contour = plt.contour(R, COGS, N, levels=net_income_margins)\n",
    "plt.clabel(contour, inline=True, fontsize=8)\n",
    "plt.title('Contour Plot of COGS vs. Revenue for Different Net Income Margins')\n",
    "plt.xlabel('Revenue')\n",
    "plt.ylabel('Cost of Goods Sold (COGS)')\n",
    "#plt.semilogy()\n",
    "plt.show()"
   ]
  },
  {
   "cell_type": "code",
   "execution_count": null,
   "id": "08251270",
   "metadata": {},
   "outputs": [],
   "source": []
  }
 ],
 "metadata": {
  "kernelspec": {
   "display_name": "Python 3 (ipykernel)",
   "language": "python",
   "name": "python3"
  },
  "language_info": {
   "codemirror_mode": {
    "name": "ipython",
    "version": 3
   },
   "file_extension": ".py",
   "mimetype": "text/x-python",
   "name": "python",
   "nbconvert_exporter": "python",
   "pygments_lexer": "ipython3",
   "version": "3.10.9"
  }
 },
 "nbformat": 4,
 "nbformat_minor": 5
}
